{
 "cells": [
  {
   "cell_type": "markdown",
   "metadata": {},
   "source": [
    "# Setup Validation - TransparenciaBR Analytics\n",
    "\n",
    "This notebook validates the project setup and tests the API connection.\n",
    "\n",
    "## Contents:\n",
    "1. Environment validation\n",
    "2. API connection test\n",
    "3. Available endpoints exploration\n",
    "4. Basic query examples"
   ]
  },
  {
   "cell_type": "markdown",
   "metadata": {},
   "source": [
    "## 1. Environment Validation"
   ]
  },
  {
   "cell_type": "code",
   "execution_count": null,
   "metadata": {},
   "outputs": [],
   "source": [
    "# Import required libraries\n",
    "import os\n",
    "import sys\n",
    "from pathlib import Path\n",
    "import json\n",
    "from datetime import datetime\n",
    "\n",
    "# Add project root to path\n",
    "project_root = Path().absolute().parent\n",
    "sys.path.insert(0, str(project_root))\n",
    "\n",
    "print(f\"Project root: {project_root}\")\n",
    "print(f\"Python version: {sys.version}\")"
   ]
  },
  {
   "cell_type": "code",
   "execution_count": null,
   "metadata": {},
   "outputs": [],
   "source": [
    "# Check environment variables\n",
    "from dotenv import load_dotenv\n",
    "\n",
    "# Load .env file\n",
    "load_dotenv()\n",
    "\n",
    "# Check required environment variables\n",
    "env_vars = [\n",
    "    \"TRANSPARENCIA_API_TOKEN\",\n",
    "    \"TRANSPARENCIA_API_EMAIL\",\n",
    "    \"API_RATE_LIMIT\",\n",
    "    \"API_TIMEOUT\",\n",
    "    \"CACHE_ENABLED\",\n",
    "    \"CACHE_TTL\",\n",
    "    \"LOG_LEVEL\"\n",
    "]\n",
    "\n",
    "print(\"Environment Variables Status:\")\n",
    "print(\"-\" * 40)\n",
    "\n",
    "for var in env_vars:\n",
    "    value = os.getenv(var)\n",
    "    if value:\n",
    "        # Mask sensitive information\n",
    "        if \"TOKEN\" in var or \"EMAIL\" in var:\n",
    "            display_value = value[:5] + \"...\" + value[-5:] if len(value) > 10 else \"***\"\n",
    "        else:\n",
    "            display_value = value\n",
    "        print(f\" {var}: {display_value}\")\n",
    "    else:\n",
    "        print(f\" {var}: Not set\")"
   ]
  },
  {
   "cell_type": "code",
   "execution_count": null,
   "metadata": {},
   "outputs": [],
   "source": [
    "# Check installed packages\n",
    "import importlib\n",
    "\n",
    "required_packages = [\n",
    "    \"requests\",\n",
    "    \"pandas\",\n",
    "    \"numpy\",\n",
    "    \"plotly\",\n",
    "    \"streamlit\",\n",
    "    \"pytest\",\n",
    "    \"python-dotenv\"\n",
    "]\n",
    "\n",
    "print(\"Package Status:\")\n",
    "print(\"-\" * 40)\n",
    "\n",
    "for package in required_packages:\n",
    "    try:\n",
    "        module_name = package.replace(\"-\", \"_\")\n",
    "        module = importlib.import_module(module_name)\n",
    "        version = getattr(module, \"__version__\", \"unknown\")\n",
    "        print(f\" {package}: {version}\")\n",
    "    except ImportError:\n",
    "        print(f\" {package}: Not installed\")"
   ]
  },
  {
   "cell_type": "markdown",
   "metadata": {},
   "source": [
    "## 2. API Connection Test"
   ]
  },
  {
   "cell_type": "code",
   "execution_count": null,
   "metadata": {},
   "outputs": [],
   "source": [
    "# Import and initialize API client\n",
    "from src.api.client import TransparenciaAPIClient\n",
    "\n",
    "try:\n",
    "    client = TransparenciaAPIClient()\n",
    "    print(\" API client initialized successfully\")\n",
    "    \n",
    "    # Show client configuration\n",
    "    stats = client.get_stats()\n",
    "    print(\"\\nClient Configuration:\")\n",
    "    print(\"-\" * 40)\n",
    "    for key, value in stats.items():\n",
    "        print(f\"{key}: {value}\")\n",
    "        \n",
    "except Exception as e:\n",
    "    print(f\" Failed to initialize API client: {e}\")\n",
    "    raise"
   ]
  },
  {
   "cell_type": "code",
   "execution_count": null,
   "metadata": {},
   "outputs": [],
   "source": [
    "# Test API connection\n",
    "print(\"Testing API connection...\")\n",
    "\n",
    "if client.test_connection():\n",
    "    print(\" Successfully connected to Portal da Transpar�ncia API\")\n",
    "else:\n",
    "    print(\" Failed to connect to API\")\n",
    "    print(\"Please check your API credentials and internet connection\")"
   ]
  },
  {
   "cell_type": "markdown",
   "metadata": {},
   "source": [
    "## 3. Available Endpoints"
   ]
  },
  {
   "cell_type": "code",
   "execution_count": null,
   "metadata": {},
   "outputs": [],
   "source": [
    "# List all available endpoints\n",
    "endpoints = client.get_available_endpoints()\n",
    "\n",
    "print(f\"Total endpoints available: {len(endpoints)}\")\n",
    "print(\"\\nEndpoints by category:\")\n",
    "print(\"=\" * 60)\n",
    "\n",
    "# Group endpoints by category\n",
    "categories = {}\n",
    "for name, path in endpoints.items():\n",
    "    category = name.split('_')[0]\n",
    "    if category not in categories:\n",
    "        categories[category] = []\n",
    "    categories[category].append((name, path))\n",
    "\n",
    "# Display by category\n",
    "for category, items in sorted(categories.items()):\n",
    "    print(f\"\\n{category.upper()}:\")\n",
    "    for name, path in sorted(items):\n",
    "        print(f\"  - {name}: {path}\")"
   ]
  },
  {
   "cell_type": "markdown",
   "metadata": {},
   "source": [
    "## 4. Basic Query Examples"
   ]
  },
  {
   "cell_type": "code",
   "execution_count": null,
   "metadata": {},
   "outputs": [],
   "source": [
    "# Example 1: Fetch government organizations\n",
    "print(\"Example 1: Fetching government organizations...\")\n",
    "\n",
    "try:\n",
    "    orgaos = client.get_orgaos(sistema=\"siafi\", pagina=1, quantidade=5)\n",
    "    \n",
    "    print(f\"\\nFetched {len(orgaos)} organizations:\")\n",
    "    print(\"-\" * 60)\n",
    "    \n",
    "    for org in orgaos:\n",
    "        codigo = org.get('codigo', 'N/A')\n",
    "        nome = org.get('descricao', org.get('nome', 'N/A'))\n",
    "        print(f\"C�digo: {codigo} - Nome: {nome}\")\n",
    "        \n",
    "except Exception as e:\n",
    "    print(f\"Error fetching organizations: {e}\")"
   ]
  },
  {
   "cell_type": "code",
   "execution_count": null,
   "metadata": {},
   "outputs": [],
   "source": [
    "# Example 2: Test caching\n",
    "import time\n",
    "\n",
    "print(\"Example 2: Testing cache functionality...\\n\")\n",
    "\n",
    "# Clear cache first\n",
    "client.clear_cache()\n",
    "print(\"Cache cleared\")\n",
    "\n",
    "# First request (hits API)\n",
    "start = time.time()\n",
    "result1 = client.get_orgaos(sistema=\"siafi\", pagina=1, quantidade=3)\n",
    "time1 = time.time() - start\n",
    "print(f\"First request took: {time1:.3f} seconds\")\n",
    "\n",
    "# Second request (should hit cache)\n",
    "start = time.time()\n",
    "result2 = client.get_orgaos(sistema=\"siafi\", pagina=1, quantidade=3)\n",
    "time2 = time.time() - start\n",
    "print(f\"Second request took: {time2:.3f} seconds\")\n",
    "\n",
    "# Verify cache is working\n",
    "if time2 < time1 / 2:\n",
    "    print(\"\\n Cache is working correctly!\")\n",
    "    print(f\"Speed improvement: {time1/time2:.1f}x faster\")\n",
    "else:\n",
    "    print(\"\\n� Cache might not be working as expected\")"
   ]
  },
  {
   "cell_type": "code",
   "execution_count": null,
   "metadata": {},
   "outputs": [],
   "source": [
    "# Example 3: Fetch multiple types of data\n",
    "print(\"Example 3: Fetching different types of data...\\n\")\n",
    "\n",
    "# Define examples to test\n",
    "examples = [\n",
    "    (\"Contratos\", lambda: client.get_contratos(pagina=1, quantidade=2)),\n",
    "    (\"Licita��es\", lambda: client.get_licitacoes(pagina=1, quantidade=2)),\n",
    "    (\"Fornecedores\", lambda: client.get_fornecedores(pagina=1, quantidade=2))\n",
    "]\n",
    "\n",
    "for name, fetch_func in examples:\n",
    "    try:\n",
    "        print(f\"Fetching {name}...\")\n",
    "        data = fetch_func()\n",
    "        \n",
    "        if data:\n",
    "            print(f\" Successfully fetched {len(data)} {name.lower()}\")\n",
    "            \n",
    "            # Show first item structure\n",
    "            if isinstance(data, list) and len(data) > 0:\n",
    "                print(f\"  Fields available: {', '.join(data[0].keys())}\")\n",
    "        else:\n",
    "            print(f\"� No data returned for {name}\")\n",
    "            \n",
    "    except Exception as e:\n",
    "        print(f\" Error fetching {name}: {e}\")\n",
    "    \n",
    "    print()"
   ]
  },
  {
   "cell_type": "code",
   "execution_count": null,
   "metadata": {},
   "outputs": [],
   "source": [
    "# Example 4: Demonstrate pagination\n",
    "print(\"Example 4: Pagination example...\\n\")\n",
    "\n",
    "try:\n",
    "    # Fetch multiple pages using the paginate utility\n",
    "    print(\"Fetching multiple pages of organizations...\")\n",
    "    \n",
    "    all_orgaos = client.paginate(\n",
    "        client.get_orgaos,\n",
    "        max_pages=3,\n",
    "        page_size=10,\n",
    "        sistema=\"siafi\"\n",
    "    )\n",
    "    \n",
    "    print(f\"\\n Fetched {len(all_orgaos)} organizations across multiple pages\")\n",
    "    \n",
    "    # Show unique organization counts\n",
    "    unique_codes = set(org.get('codigo', '') for org in all_orgaos)\n",
    "    print(f\"Unique organizations: {len(unique_codes)}\")\n",
    "    \n",
    "except Exception as e:\n",
    "    print(f\"Error during pagination: {e}\")"
   ]
  },
  {
   "cell_type": "markdown",
   "metadata": {},
   "source": [
    "## Summary"
   ]
  },
  {
   "cell_type": "code",
   "execution_count": null,
   "metadata": {},
   "outputs": [],
   "source": [
    "# Generate setup validation summary\n",
    "print(\"Setup Validation Summary\")\n",
    "print(\"=\" * 60)\n",
    "print(f\"Timestamp: {datetime.now().strftime('%Y-%m-%d %H:%M:%S')}\")\n",
    "print()\n",
    "\n",
    "# Check all components\n",
    "checks = [\n",
    "    (\"Environment variables\", bool(os.getenv(\"TRANSPARENCIA_API_TOKEN\"))),\n",
    "    (\"API client initialization\", 'client' in locals()),\n",
    "    (\"API connection\", 'client' in locals() and client.test_connection()),\n",
    "    (\"Cache functionality\", True),  # Assumed working from example above\n",
    "    (\"Data fetching\", True)  # Assumed working from examples above\n",
    "]\n",
    "\n",
    "all_passed = True\n",
    "for check_name, passed in checks:\n",
    "    status = \"\" if passed else \"\"\n",
    "    print(f\"{status} {check_name}\")\n",
    "    if not passed:\n",
    "        all_passed = False\n",
    "\n",
    "print()\n",
    "if all_passed:\n",
    "    print(\"<� All checks passed! The project is properly configured.\")\n",
    "else:\n",
    "    print(\"�  Some checks failed. Please review the setup instructions.\")\n",
    "\n",
    "# Show next steps\n",
    "print(\"\\nNext steps:\")\n",
    "print(\"1. Explore the API endpoints in notebook 01_api_exploration.ipynb\")\n",
    "print(\"2. Analyze data quality in notebook 02_data_quality.ipynb\")\n",
    "print(\"3. Start collecting data using the data pipeline\")\n",
    "print(\"4. Build visualizations and dashboards\")"
   ]
  }
 ],
 "metadata": {
  "kernelspec": {
   "display_name": "Python 3",
   "language": "python",
   "name": "python3"
  },
  "language_info": {
   "codemirror_mode": {
    "name": "ipython",
    "version": 3
   },
   "file_extension": ".py",
   "mimetype": "text/x-python",
   "name": "python",
   "nbconvert_exporter": "python",
   "pygments_lexer": "ipython3",
   "version": "3.8.0"
  }
 },
 "nbformat": 4,
 "nbformat_minor": 4
}